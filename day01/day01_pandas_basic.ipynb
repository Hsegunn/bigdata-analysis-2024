{
 "cells": [
  {
   "cell_type": "markdown",
   "metadata": {},
   "source": [
    "## Pandas 학습\n",
    "\n",
    "### 라이브러리 추가\n",
    "\n",
    "```python\n",
    "!pip install pandas\n",
    "```\n"
   ]
  },
  {
   "cell_type": "code",
   "execution_count": 9,
   "metadata": {},
   "outputs": [
    {
     "name": "stdout",
     "output_type": "stream",
     "text": [
      "Requirement already satisfied: pandas in c:\\dev\\python312\\lib\\site-packages (2.2.1)\n",
      "Requirement already satisfied: numpy<2,>=1.26.0 in c:\\dev\\python312\\lib\\site-packages (from pandas) (1.26.4)\n",
      "Requirement already satisfied: python-dateutil>=2.8.2 in c:\\dev\\python312\\lib\\site-packages (from pandas) (2.8.2)\n",
      "Requirement already satisfied: pytz>=2020.1 in c:\\dev\\python312\\lib\\site-packages (from pandas) (2024.1)\n",
      "Requirement already satisfied: tzdata>=2022.7 in c:\\dev\\python312\\lib\\site-packages (from pandas) (2024.1)\n",
      "Requirement already satisfied: six>=1.5 in c:\\dev\\python312\\lib\\site-packages (from python-dateutil>=2.8.2->pandas) (1.16.0)\n"
     ]
    }
   ],
   "source": [
    "!pip install pandas"
   ]
  },
  {
   "cell_type": "markdown",
   "metadata": {},
   "source": [
    "### Pandas 라이브러리 로딩\n",
    "```python\n",
    "import pandas as pd\n",
    "```"
   ]
  },
  {
   "cell_type": "markdown",
   "metadata": {},
   "source": [
    "### Pandas 기본\n",
    "#### DataFrame 객체\n",
    "- 파이썬 2차원 리스트(배열)와 동일\n",
    "- 행(row) 각 하나의 유니크 데이터 묶음\n",
    "- 열(column) 유니크 데이터의 하나하나 특성"
   ]
  },
  {
   "cell_type": "code",
   "execution_count": 10,
   "metadata": {},
   "outputs": [],
   "source": [
    "import pandas as pd"
   ]
  },
  {
   "cell_type": "code",
   "execution_count": 11,
   "metadata": {},
   "outputs": [
    {
     "data": {
      "text/html": [
       "<div>\n",
       "<style scoped>\n",
       "    .dataframe tbody tr th:only-of-type {\n",
       "        vertical-align: middle;\n",
       "    }\n",
       "\n",
       "    .dataframe tbody tr th {\n",
       "        vertical-align: top;\n",
       "    }\n",
       "\n",
       "    .dataframe thead th {\n",
       "        text-align: right;\n",
       "    }\n",
       "</style>\n",
       "<table border=\"1\" class=\"dataframe\">\n",
       "  <thead>\n",
       "    <tr style=\"text-align: right;\">\n",
       "      <th></th>\n",
       "      <th>이름</th>\n",
       "      <th>나이</th>\n",
       "      <th>주소</th>\n",
       "      <th>이메일</th>\n",
       "      <th>결혼</th>\n",
       "    </tr>\n",
       "  </thead>\n",
       "  <tbody>\n",
       "    <tr>\n",
       "      <th>0</th>\n",
       "      <td>ㅇㅇㅇ</td>\n",
       "      <td>24</td>\n",
       "      <td>ㅇㅇ</td>\n",
       "      <td>ㅇㅇ</td>\n",
       "      <td>True</td>\n",
       "    </tr>\n",
       "    <tr>\n",
       "      <th>1</th>\n",
       "      <td>ㅁㅁㅁ</td>\n",
       "      <td>25</td>\n",
       "      <td>ㅁㅁ</td>\n",
       "      <td>ㅁㅁ</td>\n",
       "      <td>False</td>\n",
       "    </tr>\n",
       "  </tbody>\n",
       "</table>\n",
       "</div>"
      ],
      "text/plain": [
       "    이름  나이  주소 이메일     결혼\n",
       "0  ㅇㅇㅇ  24  ㅇㅇ  ㅇㅇ   True\n",
       "1  ㅁㅁㅁ  25  ㅁㅁ  ㅁㅁ  False"
      ]
     },
     "execution_count": 11,
     "metadata": {},
     "output_type": "execute_result"
    }
   ],
   "source": [
    "## 2차원 딕셔너리 생성\n",
    "data = {'이름':['ㅇㅇㅇ','ㅁㅁㅁ'], '나이':[24,25], '주소':['ㅇㅇ','ㅁㅁ'], '이메일':['ㅇㅇ','ㅁㅁ'], '결혼':[True,False]}\n",
    "df = pd.DataFrame(data=data)\n",
    "df"
   ]
  },
  {
   "cell_type": "code",
   "execution_count": 12,
   "metadata": {},
   "outputs": [
    {
     "data": {
      "text/plain": [
       "[['ㅇㅇㅇ', 20, 'ㅁㅁ', 'ㅇㅇㅇ@naver.com', True],\n",
       " ['ㅂㅂㅂ', 30, 'ㅋㅋ', 'ㅂㅂㅂ@naver.com', False],\n",
       " ['ㅅㅅㅅ', 20, 'ㄱㄱ', 'ㅅㅅㅅ@naver.com', True],\n",
       " ['ㄷㄷㄷ', 25, 'ㄹㄹ', 'ㄷㄷㄷ@naver.com', False]]"
      ]
     },
     "execution_count": 12,
     "metadata": {},
     "output_type": "execute_result"
    }
   ],
   "source": [
    "## 2차원 리스트 생성\n",
    "data = [['ㅇㅇㅇ', 20, 'ㅁㅁ', 'ㅇㅇㅇ@naver.com', True], ['ㅂㅂㅂ', 30, 'ㅋㅋ', 'ㅂㅂㅂ@naver.com', False],\n",
    "        ['ㅅㅅㅅ', 20, 'ㄱㄱ', 'ㅅㅅㅅ@naver.com', True], ['ㄷㄷㄷ', 25, 'ㄹㄹ', 'ㄷㄷㄷ@naver.com', False]]\n",
    "\n",
    "data"
   ]
  },
  {
   "cell_type": "code",
   "execution_count": 13,
   "metadata": {},
   "outputs": [
    {
     "data": {
      "text/html": [
       "<div>\n",
       "<style scoped>\n",
       "    .dataframe tbody tr th:only-of-type {\n",
       "        vertical-align: middle;\n",
       "    }\n",
       "\n",
       "    .dataframe tbody tr th {\n",
       "        vertical-align: top;\n",
       "    }\n",
       "\n",
       "    .dataframe thead th {\n",
       "        text-align: right;\n",
       "    }\n",
       "</style>\n",
       "<table border=\"1\" class=\"dataframe\">\n",
       "  <thead>\n",
       "    <tr style=\"text-align: right;\">\n",
       "      <th></th>\n",
       "      <th>이름</th>\n",
       "      <th>나이</th>\n",
       "      <th>주소</th>\n",
       "      <th>이메일</th>\n",
       "      <th>결혼</th>\n",
       "    </tr>\n",
       "  </thead>\n",
       "  <tbody>\n",
       "    <tr>\n",
       "      <th>0</th>\n",
       "      <td>ㅇㅇㅇ</td>\n",
       "      <td>20</td>\n",
       "      <td>ㅁㅁ</td>\n",
       "      <td>ㅇㅇㅇ@naver.com</td>\n",
       "      <td>True</td>\n",
       "    </tr>\n",
       "    <tr>\n",
       "      <th>1</th>\n",
       "      <td>ㅂㅂㅂ</td>\n",
       "      <td>30</td>\n",
       "      <td>ㅋㅋ</td>\n",
       "      <td>ㅂㅂㅂ@naver.com</td>\n",
       "      <td>False</td>\n",
       "    </tr>\n",
       "    <tr>\n",
       "      <th>2</th>\n",
       "      <td>ㅅㅅㅅ</td>\n",
       "      <td>20</td>\n",
       "      <td>ㄱㄱ</td>\n",
       "      <td>ㅅㅅㅅ@naver.com</td>\n",
       "      <td>True</td>\n",
       "    </tr>\n",
       "    <tr>\n",
       "      <th>3</th>\n",
       "      <td>ㄷㄷㄷ</td>\n",
       "      <td>25</td>\n",
       "      <td>ㄹㄹ</td>\n",
       "      <td>ㄷㄷㄷ@naver.com</td>\n",
       "      <td>False</td>\n",
       "    </tr>\n",
       "  </tbody>\n",
       "</table>\n",
       "</div>"
      ],
      "text/plain": [
       "    이름  나이  주소            이메일     결혼\n",
       "0  ㅇㅇㅇ  20  ㅁㅁ  ㅇㅇㅇ@naver.com   True\n",
       "1  ㅂㅂㅂ  30  ㅋㅋ  ㅂㅂㅂ@naver.com  False\n",
       "2  ㅅㅅㅅ  20  ㄱㄱ  ㅅㅅㅅ@naver.com   True\n",
       "3  ㄷㄷㄷ  25  ㄹㄹ  ㄷㄷㄷ@naver.com  False"
      ]
     },
     "execution_count": 13,
     "metadata": {},
     "output_type": "execute_result"
    }
   ],
   "source": [
    "## 2차원 리스트로 DataFrame 객체 생성\n",
    "df = pd.DataFrame(data=data, columns=['이름', '나이', '주소', '이메일', '결혼'])\n",
    "df"
   ]
  },
  {
   "cell_type": "code",
   "execution_count": 14,
   "metadata": {},
   "outputs": [
    {
     "data": {
      "text/plain": [
       "0    ㅇㅇㅇ\n",
       "1    ㅂㅂㅂ\n",
       "2    ㅅㅅㅅ\n",
       "3    ㄷㄷㄷ\n",
       "Name: 이름, dtype: object"
      ]
     },
     "execution_count": 14,
     "metadata": {},
     "output_type": "execute_result"
    }
   ],
   "source": [
    "## 데이터프레임에서 데이터 조회(열) - 리스트는 for문을 써야 출력가능\n",
    "df['이름']"
   ]
  },
  {
   "cell_type": "code",
   "execution_count": 15,
   "metadata": {},
   "outputs": [
    {
     "data": {
      "text/html": [
       "<div>\n",
       "<style scoped>\n",
       "    .dataframe tbody tr th:only-of-type {\n",
       "        vertical-align: middle;\n",
       "    }\n",
       "\n",
       "    .dataframe tbody tr th {\n",
       "        vertical-align: top;\n",
       "    }\n",
       "\n",
       "    .dataframe thead th {\n",
       "        text-align: right;\n",
       "    }\n",
       "</style>\n",
       "<table border=\"1\" class=\"dataframe\">\n",
       "  <thead>\n",
       "    <tr style=\"text-align: right;\">\n",
       "      <th></th>\n",
       "      <th>이름</th>\n",
       "      <th>나이</th>\n",
       "    </tr>\n",
       "  </thead>\n",
       "  <tbody>\n",
       "    <tr>\n",
       "      <th>0</th>\n",
       "      <td>ㅇㅇㅇ</td>\n",
       "      <td>20</td>\n",
       "    </tr>\n",
       "    <tr>\n",
       "      <th>1</th>\n",
       "      <td>ㅂㅂㅂ</td>\n",
       "      <td>30</td>\n",
       "    </tr>\n",
       "    <tr>\n",
       "      <th>2</th>\n",
       "      <td>ㅅㅅㅅ</td>\n",
       "      <td>20</td>\n",
       "    </tr>\n",
       "    <tr>\n",
       "      <th>3</th>\n",
       "      <td>ㄷㄷㄷ</td>\n",
       "      <td>25</td>\n",
       "    </tr>\n",
       "  </tbody>\n",
       "</table>\n",
       "</div>"
      ],
      "text/plain": [
       "    이름  나이\n",
       "0  ㅇㅇㅇ  20\n",
       "1  ㅂㅂㅂ  30\n",
       "2  ㅅㅅㅅ  20\n",
       "3  ㄷㄷㄷ  25"
      ]
     },
     "execution_count": 15,
     "metadata": {},
     "output_type": "execute_result"
    }
   ],
   "source": [
    "## 데이터프레임 조회 (2개 열)\n",
    "df[['이름','나이']]"
   ]
  },
  {
   "cell_type": "code",
   "execution_count": 16,
   "metadata": {},
   "outputs": [
    {
     "data": {
      "text/plain": [
       "이름               ㅇㅇㅇ\n",
       "나이                20\n",
       "주소                ㅁㅁ\n",
       "이메일    ㅇㅇㅇ@naver.com\n",
       "결혼              True\n",
       "Name: 0, dtype: object"
      ]
     },
     "execution_count": 16,
     "metadata": {},
     "output_type": "execute_result"
    }
   ],
   "source": [
    "## 데이터프레임 행으로 조회\n",
    "df.loc[0]"
   ]
  },
  {
   "cell_type": "code",
   "execution_count": 17,
   "metadata": {},
   "outputs": [
    {
     "data": {
      "text/html": [
       "<div>\n",
       "<style scoped>\n",
       "    .dataframe tbody tr th:only-of-type {\n",
       "        vertical-align: middle;\n",
       "    }\n",
       "\n",
       "    .dataframe tbody tr th {\n",
       "        vertical-align: top;\n",
       "    }\n",
       "\n",
       "    .dataframe thead th {\n",
       "        text-align: right;\n",
       "    }\n",
       "</style>\n",
       "<table border=\"1\" class=\"dataframe\">\n",
       "  <thead>\n",
       "    <tr style=\"text-align: right;\">\n",
       "      <th></th>\n",
       "      <th>이름</th>\n",
       "      <th>나이</th>\n",
       "      <th>주소</th>\n",
       "      <th>이메일</th>\n",
       "      <th>결혼</th>\n",
       "    </tr>\n",
       "  </thead>\n",
       "  <tbody>\n",
       "    <tr>\n",
       "      <th>1</th>\n",
       "      <td>ㅂㅂㅂ</td>\n",
       "      <td>30</td>\n",
       "      <td>ㅋㅋ</td>\n",
       "      <td>ㅂㅂㅂ@naver.com</td>\n",
       "      <td>False</td>\n",
       "    </tr>\n",
       "    <tr>\n",
       "      <th>3</th>\n",
       "      <td>ㄷㄷㄷ</td>\n",
       "      <td>25</td>\n",
       "      <td>ㄹㄹ</td>\n",
       "      <td>ㄷㄷㄷ@naver.com</td>\n",
       "      <td>False</td>\n",
       "    </tr>\n",
       "  </tbody>\n",
       "</table>\n",
       "</div>"
      ],
      "text/plain": [
       "    이름  나이  주소            이메일     결혼\n",
       "1  ㅂㅂㅂ  30  ㅋㅋ  ㅂㅂㅂ@naver.com  False\n",
       "3  ㄷㄷㄷ  25  ㄹㄹ  ㄷㄷㄷ@naver.com  False"
      ]
     },
     "execution_count": 17,
     "metadata": {},
     "output_type": "execute_result"
    }
   ],
   "source": [
    "## 데이터프레임 조회(행)\n",
    "df.loc[[1, 3]]"
   ]
  },
  {
   "cell_type": "code",
   "execution_count": 18,
   "metadata": {},
   "outputs": [
    {
     "data": {
      "text/html": [
       "<div>\n",
       "<style scoped>\n",
       "    .dataframe tbody tr th:only-of-type {\n",
       "        vertical-align: middle;\n",
       "    }\n",
       "\n",
       "    .dataframe tbody tr th {\n",
       "        vertical-align: top;\n",
       "    }\n",
       "\n",
       "    .dataframe thead th {\n",
       "        text-align: right;\n",
       "    }\n",
       "</style>\n",
       "<table border=\"1\" class=\"dataframe\">\n",
       "  <thead>\n",
       "    <tr style=\"text-align: right;\">\n",
       "      <th></th>\n",
       "      <th>이름</th>\n",
       "      <th>나이</th>\n",
       "      <th>주소</th>\n",
       "      <th>이메일</th>\n",
       "      <th>결혼</th>\n",
       "    </tr>\n",
       "  </thead>\n",
       "  <tbody>\n",
       "    <tr>\n",
       "      <th>0</th>\n",
       "      <td>ㅇㅇㅇ</td>\n",
       "      <td>20</td>\n",
       "      <td>ㅁㅁ</td>\n",
       "      <td>ㅇㅇㅇ@naver.com</td>\n",
       "      <td>True</td>\n",
       "    </tr>\n",
       "    <tr>\n",
       "      <th>1</th>\n",
       "      <td>ㅂㅂㅂ</td>\n",
       "      <td>30</td>\n",
       "      <td>ㅋㅋ</td>\n",
       "      <td>ㅂㅂㅂ@naver.com</td>\n",
       "      <td>False</td>\n",
       "    </tr>\n",
       "    <tr>\n",
       "      <th>2</th>\n",
       "      <td>ㅅㅅㅅ</td>\n",
       "      <td>20</td>\n",
       "      <td>ㄱㄱ</td>\n",
       "      <td>ㅅㅅㅅ@naver.com</td>\n",
       "      <td>True</td>\n",
       "    </tr>\n",
       "    <tr>\n",
       "      <th>3</th>\n",
       "      <td>ㄷㄷㄷ</td>\n",
       "      <td>25</td>\n",
       "      <td>ㄹㄹ</td>\n",
       "      <td>ㄷㄷㄷ@naver.com</td>\n",
       "      <td>False</td>\n",
       "    </tr>\n",
       "  </tbody>\n",
       "</table>\n",
       "</div>"
      ],
      "text/plain": [
       "    이름  나이  주소            이메일     결혼\n",
       "0  ㅇㅇㅇ  20  ㅁㅁ  ㅇㅇㅇ@naver.com   True\n",
       "1  ㅂㅂㅂ  30  ㅋㅋ  ㅂㅂㅂ@naver.com  False\n",
       "2  ㅅㅅㅅ  20  ㄱㄱ  ㅅㅅㅅ@naver.com   True\n",
       "3  ㄷㄷㄷ  25  ㄹㄹ  ㄷㄷㄷ@naver.com  False"
      ]
     },
     "execution_count": 18,
     "metadata": {},
     "output_type": "execute_result"
    }
   ],
   "source": [
    "# 현재 데이터프레임 확인\n",
    "df"
   ]
  },
  {
   "cell_type": "code",
   "execution_count": 19,
   "metadata": {},
   "outputs": [],
   "source": [
    "## 새 컬럼 추가\n",
    "df['전번'] = ['010', '02', '011', '051']"
   ]
  },
  {
   "cell_type": "code",
   "execution_count": 20,
   "metadata": {},
   "outputs": [
    {
     "data": {
      "text/html": [
       "<div>\n",
       "<style scoped>\n",
       "    .dataframe tbody tr th:only-of-type {\n",
       "        vertical-align: middle;\n",
       "    }\n",
       "\n",
       "    .dataframe tbody tr th {\n",
       "        vertical-align: top;\n",
       "    }\n",
       "\n",
       "    .dataframe thead th {\n",
       "        text-align: right;\n",
       "    }\n",
       "</style>\n",
       "<table border=\"1\" class=\"dataframe\">\n",
       "  <thead>\n",
       "    <tr style=\"text-align: right;\">\n",
       "      <th></th>\n",
       "      <th>이름</th>\n",
       "      <th>나이</th>\n",
       "      <th>주소</th>\n",
       "      <th>이메일</th>\n",
       "      <th>결혼</th>\n",
       "      <th>전번</th>\n",
       "    </tr>\n",
       "  </thead>\n",
       "  <tbody>\n",
       "    <tr>\n",
       "      <th>0</th>\n",
       "      <td>ㅇㅇㅇ</td>\n",
       "      <td>20</td>\n",
       "      <td>ㅁㅁ</td>\n",
       "      <td>ㅇㅇㅇ@naver.com</td>\n",
       "      <td>True</td>\n",
       "      <td>010</td>\n",
       "    </tr>\n",
       "    <tr>\n",
       "      <th>1</th>\n",
       "      <td>ㅂㅂㅂ</td>\n",
       "      <td>30</td>\n",
       "      <td>ㅋㅋ</td>\n",
       "      <td>ㅂㅂㅂ@naver.com</td>\n",
       "      <td>False</td>\n",
       "      <td>02</td>\n",
       "    </tr>\n",
       "    <tr>\n",
       "      <th>2</th>\n",
       "      <td>ㅅㅅㅅ</td>\n",
       "      <td>20</td>\n",
       "      <td>ㄱㄱ</td>\n",
       "      <td>ㅅㅅㅅ@naver.com</td>\n",
       "      <td>True</td>\n",
       "      <td>011</td>\n",
       "    </tr>\n",
       "    <tr>\n",
       "      <th>3</th>\n",
       "      <td>ㄷㄷㄷ</td>\n",
       "      <td>25</td>\n",
       "      <td>ㄹㄹ</td>\n",
       "      <td>ㄷㄷㄷ@naver.com</td>\n",
       "      <td>False</td>\n",
       "      <td>051</td>\n",
       "    </tr>\n",
       "  </tbody>\n",
       "</table>\n",
       "</div>"
      ],
      "text/plain": [
       "    이름  나이  주소            이메일     결혼   전번\n",
       "0  ㅇㅇㅇ  20  ㅁㅁ  ㅇㅇㅇ@naver.com   True  010\n",
       "1  ㅂㅂㅂ  30  ㅋㅋ  ㅂㅂㅂ@naver.com  False   02\n",
       "2  ㅅㅅㅅ  20  ㄱㄱ  ㅅㅅㅅ@naver.com   True  011\n",
       "3  ㄷㄷㄷ  25  ㄹㄹ  ㄷㄷㄷ@naver.com  False  051"
      ]
     },
     "execution_count": 20,
     "metadata": {},
     "output_type": "execute_result"
    }
   ],
   "source": [
    "# 추가 데이터프레임 확인\n",
    "df"
   ]
  },
  {
   "cell_type": "code",
   "execution_count": 21,
   "metadata": {},
   "outputs": [
    {
     "data": {
      "text/html": [
       "<div>\n",
       "<style scoped>\n",
       "    .dataframe tbody tr th:only-of-type {\n",
       "        vertical-align: middle;\n",
       "    }\n",
       "\n",
       "    .dataframe tbody tr th {\n",
       "        vertical-align: top;\n",
       "    }\n",
       "\n",
       "    .dataframe thead th {\n",
       "        text-align: right;\n",
       "    }\n",
       "</style>\n",
       "<table border=\"1\" class=\"dataframe\">\n",
       "  <thead>\n",
       "    <tr style=\"text-align: right;\">\n",
       "      <th></th>\n",
       "      <th>이름</th>\n",
       "      <th>나이</th>\n",
       "      <th>주소</th>\n",
       "      <th>이메일</th>\n",
       "      <th>전번</th>\n",
       "    </tr>\n",
       "  </thead>\n",
       "  <tbody>\n",
       "    <tr>\n",
       "      <th>0</th>\n",
       "      <td>ㅇㅇㅇ</td>\n",
       "      <td>20</td>\n",
       "      <td>ㅁㅁ</td>\n",
       "      <td>ㅇㅇㅇ@naver.com</td>\n",
       "      <td>010</td>\n",
       "    </tr>\n",
       "    <tr>\n",
       "      <th>1</th>\n",
       "      <td>ㅂㅂㅂ</td>\n",
       "      <td>30</td>\n",
       "      <td>ㅋㅋ</td>\n",
       "      <td>ㅂㅂㅂ@naver.com</td>\n",
       "      <td>02</td>\n",
       "    </tr>\n",
       "    <tr>\n",
       "      <th>2</th>\n",
       "      <td>ㅅㅅㅅ</td>\n",
       "      <td>20</td>\n",
       "      <td>ㄱㄱ</td>\n",
       "      <td>ㅅㅅㅅ@naver.com</td>\n",
       "      <td>011</td>\n",
       "    </tr>\n",
       "    <tr>\n",
       "      <th>3</th>\n",
       "      <td>ㄷㄷㄷ</td>\n",
       "      <td>25</td>\n",
       "      <td>ㄹㄹ</td>\n",
       "      <td>ㄷㄷㄷ@naver.com</td>\n",
       "      <td>051</td>\n",
       "    </tr>\n",
       "  </tbody>\n",
       "</table>\n",
       "</div>"
      ],
      "text/plain": [
       "    이름  나이  주소            이메일   전번\n",
       "0  ㅇㅇㅇ  20  ㅁㅁ  ㅇㅇㅇ@naver.com  010\n",
       "1  ㅂㅂㅂ  30  ㅋㅋ  ㅂㅂㅂ@naver.com   02\n",
       "2  ㅅㅅㅅ  20  ㄱㄱ  ㅅㅅㅅ@naver.com  011\n",
       "3  ㄷㄷㄷ  25  ㄹㄹ  ㄷㄷㄷ@naver.com  051"
      ]
     },
     "execution_count": 21,
     "metadata": {},
     "output_type": "execute_result"
    }
   ],
   "source": [
    "## 열 삭제, axis=0(행), 1(열)\n",
    "df.drop('결혼', axis=1)"
   ]
  },
  {
   "cell_type": "code",
   "execution_count": 22,
   "metadata": {},
   "outputs": [],
   "source": [
    "## drop()은 삭제하고 출력만 해줌. 완전히 삭제하려면 inplace 옵션을 사용\n",
    "# inplace를 화면에 출력안됨\n",
    "df.drop('결혼', axis=1, inplace=True)"
   ]
  },
  {
   "cell_type": "code",
   "execution_count": 23,
   "metadata": {},
   "outputs": [
    {
     "data": {
      "text/html": [
       "<div>\n",
       "<style scoped>\n",
       "    .dataframe tbody tr th:only-of-type {\n",
       "        vertical-align: middle;\n",
       "    }\n",
       "\n",
       "    .dataframe tbody tr th {\n",
       "        vertical-align: top;\n",
       "    }\n",
       "\n",
       "    .dataframe thead th {\n",
       "        text-align: right;\n",
       "    }\n",
       "</style>\n",
       "<table border=\"1\" class=\"dataframe\">\n",
       "  <thead>\n",
       "    <tr style=\"text-align: right;\">\n",
       "      <th></th>\n",
       "      <th>이름</th>\n",
       "      <th>나이</th>\n",
       "      <th>주소</th>\n",
       "      <th>이메일</th>\n",
       "      <th>전번</th>\n",
       "    </tr>\n",
       "  </thead>\n",
       "  <tbody>\n",
       "    <tr>\n",
       "      <th>0</th>\n",
       "      <td>ㅇㅇㅇ</td>\n",
       "      <td>20</td>\n",
       "      <td>ㅁㅁ</td>\n",
       "      <td>ㅇㅇㅇ@naver.com</td>\n",
       "      <td>010</td>\n",
       "    </tr>\n",
       "    <tr>\n",
       "      <th>1</th>\n",
       "      <td>ㅂㅂㅂ</td>\n",
       "      <td>30</td>\n",
       "      <td>ㅋㅋ</td>\n",
       "      <td>ㅂㅂㅂ@naver.com</td>\n",
       "      <td>02</td>\n",
       "    </tr>\n",
       "    <tr>\n",
       "      <th>2</th>\n",
       "      <td>ㅅㅅㅅ</td>\n",
       "      <td>20</td>\n",
       "      <td>ㄱㄱ</td>\n",
       "      <td>ㅅㅅㅅ@naver.com</td>\n",
       "      <td>011</td>\n",
       "    </tr>\n",
       "    <tr>\n",
       "      <th>3</th>\n",
       "      <td>ㄷㄷㄷ</td>\n",
       "      <td>25</td>\n",
       "      <td>ㄹㄹ</td>\n",
       "      <td>ㄷㄷㄷ@naver.com</td>\n",
       "      <td>051</td>\n",
       "    </tr>\n",
       "  </tbody>\n",
       "</table>\n",
       "</div>"
      ],
      "text/plain": [
       "    이름  나이  주소            이메일   전번\n",
       "0  ㅇㅇㅇ  20  ㅁㅁ  ㅇㅇㅇ@naver.com  010\n",
       "1  ㅂㅂㅂ  30  ㅋㅋ  ㅂㅂㅂ@naver.com   02\n",
       "2  ㅅㅅㅅ  20  ㄱㄱ  ㅅㅅㅅ@naver.com  011\n",
       "3  ㄷㄷㄷ  25  ㄹㄹ  ㄷㄷㄷ@naver.com  051"
      ]
     },
     "execution_count": 23,
     "metadata": {},
     "output_type": "execute_result"
    }
   ],
   "source": [
    "# 삭제확인\n",
    "df"
   ]
  },
  {
   "cell_type": "code",
   "execution_count": 24,
   "metadata": {},
   "outputs": [],
   "source": [
    "## 행 추가\n",
    "df.loc[4] = ['손흥민', 32, '런던', 'shm@gmail.com', '020']"
   ]
  },
  {
   "cell_type": "code",
   "execution_count": 25,
   "metadata": {},
   "outputs": [
    {
     "data": {
      "text/html": [
       "<div>\n",
       "<style scoped>\n",
       "    .dataframe tbody tr th:only-of-type {\n",
       "        vertical-align: middle;\n",
       "    }\n",
       "\n",
       "    .dataframe tbody tr th {\n",
       "        vertical-align: top;\n",
       "    }\n",
       "\n",
       "    .dataframe thead th {\n",
       "        text-align: right;\n",
       "    }\n",
       "</style>\n",
       "<table border=\"1\" class=\"dataframe\">\n",
       "  <thead>\n",
       "    <tr style=\"text-align: right;\">\n",
       "      <th></th>\n",
       "      <th>이름</th>\n",
       "      <th>나이</th>\n",
       "      <th>주소</th>\n",
       "      <th>이메일</th>\n",
       "      <th>전번</th>\n",
       "    </tr>\n",
       "  </thead>\n",
       "  <tbody>\n",
       "    <tr>\n",
       "      <th>0</th>\n",
       "      <td>ㅇㅇㅇ</td>\n",
       "      <td>20</td>\n",
       "      <td>ㅁㅁ</td>\n",
       "      <td>ㅇㅇㅇ@naver.com</td>\n",
       "      <td>010</td>\n",
       "    </tr>\n",
       "    <tr>\n",
       "      <th>1</th>\n",
       "      <td>ㅂㅂㅂ</td>\n",
       "      <td>30</td>\n",
       "      <td>ㅋㅋ</td>\n",
       "      <td>ㅂㅂㅂ@naver.com</td>\n",
       "      <td>02</td>\n",
       "    </tr>\n",
       "    <tr>\n",
       "      <th>2</th>\n",
       "      <td>ㅅㅅㅅ</td>\n",
       "      <td>20</td>\n",
       "      <td>ㄱㄱ</td>\n",
       "      <td>ㅅㅅㅅ@naver.com</td>\n",
       "      <td>011</td>\n",
       "    </tr>\n",
       "    <tr>\n",
       "      <th>3</th>\n",
       "      <td>ㄷㄷㄷ</td>\n",
       "      <td>25</td>\n",
       "      <td>ㄹㄹ</td>\n",
       "      <td>ㄷㄷㄷ@naver.com</td>\n",
       "      <td>051</td>\n",
       "    </tr>\n",
       "    <tr>\n",
       "      <th>4</th>\n",
       "      <td>손흥민</td>\n",
       "      <td>32</td>\n",
       "      <td>런던</td>\n",
       "      <td>shm@gmail.com</td>\n",
       "      <td>020</td>\n",
       "    </tr>\n",
       "  </tbody>\n",
       "</table>\n",
       "</div>"
      ],
      "text/plain": [
       "    이름  나이  주소            이메일   전번\n",
       "0  ㅇㅇㅇ  20  ㅁㅁ  ㅇㅇㅇ@naver.com  010\n",
       "1  ㅂㅂㅂ  30  ㅋㅋ  ㅂㅂㅂ@naver.com   02\n",
       "2  ㅅㅅㅅ  20  ㄱㄱ  ㅅㅅㅅ@naver.com  011\n",
       "3  ㄷㄷㄷ  25  ㄹㄹ  ㄷㄷㄷ@naver.com  051\n",
       "4  손흥민  32  런던  shm@gmail.com  020"
      ]
     },
     "execution_count": 25,
     "metadata": {},
     "output_type": "execute_result"
    }
   ],
   "source": [
    "df"
   ]
  },
  {
   "cell_type": "code",
   "execution_count": 26,
   "metadata": {},
   "outputs": [],
   "source": [
    "## 행 삭제할 때, 완전히 지우려면 inplace를 쓰거나 변수에 재할당\n",
    "df2 = df.drop(3)"
   ]
  },
  {
   "cell_type": "code",
   "execution_count": 27,
   "metadata": {},
   "outputs": [
    {
     "data": {
      "text/html": [
       "<div>\n",
       "<style scoped>\n",
       "    .dataframe tbody tr th:only-of-type {\n",
       "        vertical-align: middle;\n",
       "    }\n",
       "\n",
       "    .dataframe tbody tr th {\n",
       "        vertical-align: top;\n",
       "    }\n",
       "\n",
       "    .dataframe thead th {\n",
       "        text-align: right;\n",
       "    }\n",
       "</style>\n",
       "<table border=\"1\" class=\"dataframe\">\n",
       "  <thead>\n",
       "    <tr style=\"text-align: right;\">\n",
       "      <th></th>\n",
       "      <th>이름</th>\n",
       "      <th>나이</th>\n",
       "      <th>주소</th>\n",
       "      <th>이메일</th>\n",
       "      <th>전번</th>\n",
       "    </tr>\n",
       "  </thead>\n",
       "  <tbody>\n",
       "    <tr>\n",
       "      <th>0</th>\n",
       "      <td>ㅇㅇㅇ</td>\n",
       "      <td>20</td>\n",
       "      <td>ㅁㅁ</td>\n",
       "      <td>ㅇㅇㅇ@naver.com</td>\n",
       "      <td>010</td>\n",
       "    </tr>\n",
       "    <tr>\n",
       "      <th>1</th>\n",
       "      <td>ㅂㅂㅂ</td>\n",
       "      <td>30</td>\n",
       "      <td>ㅋㅋ</td>\n",
       "      <td>ㅂㅂㅂ@naver.com</td>\n",
       "      <td>02</td>\n",
       "    </tr>\n",
       "    <tr>\n",
       "      <th>2</th>\n",
       "      <td>ㅅㅅㅅ</td>\n",
       "      <td>20</td>\n",
       "      <td>ㄱㄱ</td>\n",
       "      <td>ㅅㅅㅅ@naver.com</td>\n",
       "      <td>011</td>\n",
       "    </tr>\n",
       "    <tr>\n",
       "      <th>4</th>\n",
       "      <td>손흥민</td>\n",
       "      <td>32</td>\n",
       "      <td>런던</td>\n",
       "      <td>shm@gmail.com</td>\n",
       "      <td>020</td>\n",
       "    </tr>\n",
       "  </tbody>\n",
       "</table>\n",
       "</div>"
      ],
      "text/plain": [
       "    이름  나이  주소            이메일   전번\n",
       "0  ㅇㅇㅇ  20  ㅁㅁ  ㅇㅇㅇ@naver.com  010\n",
       "1  ㅂㅂㅂ  30  ㅋㅋ  ㅂㅂㅂ@naver.com   02\n",
       "2  ㅅㅅㅅ  20  ㄱㄱ  ㅅㅅㅅ@naver.com  011\n",
       "4  손흥민  32  런던  shm@gmail.com  020"
      ]
     },
     "execution_count": 27,
     "metadata": {},
     "output_type": "execute_result"
    }
   ],
   "source": [
    "df2"
   ]
  },
  {
   "cell_type": "code",
   "execution_count": 28,
   "metadata": {},
   "outputs": [],
   "source": [
    "## 행 삭제 = inplace, 행 삭제 시는 axis=0만 사용 또는 생략\n",
    "df.drop(2, axis=0, inplace=True)"
   ]
  },
  {
   "cell_type": "code",
   "execution_count": 29,
   "metadata": {},
   "outputs": [
    {
     "data": {
      "text/html": [
       "<div>\n",
       "<style scoped>\n",
       "    .dataframe tbody tr th:only-of-type {\n",
       "        vertical-align: middle;\n",
       "    }\n",
       "\n",
       "    .dataframe tbody tr th {\n",
       "        vertical-align: top;\n",
       "    }\n",
       "\n",
       "    .dataframe thead th {\n",
       "        text-align: right;\n",
       "    }\n",
       "</style>\n",
       "<table border=\"1\" class=\"dataframe\">\n",
       "  <thead>\n",
       "    <tr style=\"text-align: right;\">\n",
       "      <th></th>\n",
       "      <th>이름</th>\n",
       "      <th>나이</th>\n",
       "      <th>주소</th>\n",
       "      <th>이메일</th>\n",
       "      <th>전번</th>\n",
       "    </tr>\n",
       "  </thead>\n",
       "  <tbody>\n",
       "    <tr>\n",
       "      <th>0</th>\n",
       "      <td>ㅇㅇㅇ</td>\n",
       "      <td>20</td>\n",
       "      <td>ㅁㅁ</td>\n",
       "      <td>ㅇㅇㅇ@naver.com</td>\n",
       "      <td>010</td>\n",
       "    </tr>\n",
       "    <tr>\n",
       "      <th>1</th>\n",
       "      <td>ㅂㅂㅂ</td>\n",
       "      <td>30</td>\n",
       "      <td>ㅋㅋ</td>\n",
       "      <td>ㅂㅂㅂ@naver.com</td>\n",
       "      <td>02</td>\n",
       "    </tr>\n",
       "    <tr>\n",
       "      <th>3</th>\n",
       "      <td>ㄷㄷㄷ</td>\n",
       "      <td>25</td>\n",
       "      <td>ㄹㄹ</td>\n",
       "      <td>ㄷㄷㄷ@naver.com</td>\n",
       "      <td>051</td>\n",
       "    </tr>\n",
       "    <tr>\n",
       "      <th>4</th>\n",
       "      <td>손흥민</td>\n",
       "      <td>32</td>\n",
       "      <td>런던</td>\n",
       "      <td>shm@gmail.com</td>\n",
       "      <td>020</td>\n",
       "    </tr>\n",
       "  </tbody>\n",
       "</table>\n",
       "</div>"
      ],
      "text/plain": [
       "    이름  나이  주소            이메일   전번\n",
       "0  ㅇㅇㅇ  20  ㅁㅁ  ㅇㅇㅇ@naver.com  010\n",
       "1  ㅂㅂㅂ  30  ㅋㅋ  ㅂㅂㅂ@naver.com   02\n",
       "3  ㄷㄷㄷ  25  ㄹㄹ  ㄷㄷㄷ@naver.com  051\n",
       "4  손흥민  32  런던  shm@gmail.com  020"
      ]
     },
     "execution_count": 29,
     "metadata": {},
     "output_type": "execute_result"
    }
   ],
   "source": [
    "df"
   ]
  },
  {
   "cell_type": "code",
   "execution_count": 30,
   "metadata": {},
   "outputs": [],
   "source": [
    "## 열 이름을 변경\n",
    "df.rename(columns={'전번':'휴대폰'}, inplace=True)"
   ]
  },
  {
   "cell_type": "code",
   "execution_count": 31,
   "metadata": {},
   "outputs": [
    {
     "data": {
      "text/html": [
       "<div>\n",
       "<style scoped>\n",
       "    .dataframe tbody tr th:only-of-type {\n",
       "        vertical-align: middle;\n",
       "    }\n",
       "\n",
       "    .dataframe tbody tr th {\n",
       "        vertical-align: top;\n",
       "    }\n",
       "\n",
       "    .dataframe thead th {\n",
       "        text-align: right;\n",
       "    }\n",
       "</style>\n",
       "<table border=\"1\" class=\"dataframe\">\n",
       "  <thead>\n",
       "    <tr style=\"text-align: right;\">\n",
       "      <th></th>\n",
       "      <th>이름</th>\n",
       "      <th>나이</th>\n",
       "      <th>주소</th>\n",
       "      <th>이메일</th>\n",
       "      <th>휴대폰</th>\n",
       "    </tr>\n",
       "  </thead>\n",
       "  <tbody>\n",
       "    <tr>\n",
       "      <th>0</th>\n",
       "      <td>ㅇㅇㅇ</td>\n",
       "      <td>20</td>\n",
       "      <td>ㅁㅁ</td>\n",
       "      <td>ㅇㅇㅇ@naver.com</td>\n",
       "      <td>010</td>\n",
       "    </tr>\n",
       "    <tr>\n",
       "      <th>1</th>\n",
       "      <td>ㅂㅂㅂ</td>\n",
       "      <td>30</td>\n",
       "      <td>ㅋㅋ</td>\n",
       "      <td>ㅂㅂㅂ@naver.com</td>\n",
       "      <td>02</td>\n",
       "    </tr>\n",
       "    <tr>\n",
       "      <th>3</th>\n",
       "      <td>ㄷㄷㄷ</td>\n",
       "      <td>25</td>\n",
       "      <td>ㄹㄹ</td>\n",
       "      <td>ㄷㄷㄷ@naver.com</td>\n",
       "      <td>051</td>\n",
       "    </tr>\n",
       "    <tr>\n",
       "      <th>4</th>\n",
       "      <td>손흥민</td>\n",
       "      <td>32</td>\n",
       "      <td>런던</td>\n",
       "      <td>shm@gmail.com</td>\n",
       "      <td>020</td>\n",
       "    </tr>\n",
       "  </tbody>\n",
       "</table>\n",
       "</div>"
      ],
      "text/plain": [
       "    이름  나이  주소            이메일  휴대폰\n",
       "0  ㅇㅇㅇ  20  ㅁㅁ  ㅇㅇㅇ@naver.com  010\n",
       "1  ㅂㅂㅂ  30  ㅋㅋ  ㅂㅂㅂ@naver.com   02\n",
       "3  ㄷㄷㄷ  25  ㄹㄹ  ㄷㄷㄷ@naver.com  051\n",
       "4  손흥민  32  런던  shm@gmail.com  020"
      ]
     },
     "execution_count": 31,
     "metadata": {},
     "output_type": "execute_result"
    }
   ],
   "source": [
    "df "
   ]
  },
  {
   "cell_type": "markdown",
   "metadata": {},
   "source": [
    "- 데이터프레임은 파이썬의 2차원 리스트와 동일하지만, 좀더 사용하기 쉽게 만든 클래스"
   ]
  },
  {
   "cell_type": "markdown",
   "metadata": {},
   "source": [
    "#### 시리즈 객체\n",
    "\n",
    "- 파이썬에서 1차원 리스트(배열)\n",
    "- 시리즈들 그루핑한게 데이터프레임\n",
    "- 가장 최소단위"
   ]
  },
  {
   "cell_type": "code",
   "execution_count": 32,
   "metadata": {},
   "outputs": [
    {
     "data": {
      "text/plain": [
       "0    20\n",
       "1    30\n",
       "2    20\n",
       "3    25\n",
       "4    32\n",
       "dtype: int64"
      ]
     },
     "execution_count": 32,
     "metadata": {},
     "output_type": "execute_result"
    }
   ],
   "source": [
    "data = [20, 30, 20, 25, 32]\n",
    "srs = pd.Series(data=data)\n",
    "srs"
   ]
  },
  {
   "cell_type": "code",
   "execution_count": 33,
   "metadata": {},
   "outputs": [
    {
     "data": {
      "text/plain": [
       "pandas.core.series.Series"
      ]
     },
     "execution_count": 33,
     "metadata": {},
     "output_type": "execute_result"
    }
   ],
   "source": [
    "type(srs)"
   ]
  },
  {
   "cell_type": "code",
   "execution_count": 34,
   "metadata": {},
   "outputs": [
    {
     "data": {
      "text/plain": [
       "ㅇㅇㅇ    20\n",
       "ㅂㅂㅂ    30\n",
       "ㅅㅅㅅ    20\n",
       "ㄷㄷㄷ    25\n",
       "손흥민    32\n",
       "dtype: int64"
      ]
     },
     "execution_count": 34,
     "metadata": {},
     "output_type": "execute_result"
    }
   ],
   "source": [
    "srs = pd.Series(data=data, index=['ㅇㅇㅇ','ㅂㅂㅂ','ㅅㅅㅅ','ㄷㄷㄷ','손흥민'])\n",
    "srs\n"
   ]
  },
  {
   "cell_type": "code",
   "execution_count": 35,
   "metadata": {},
   "outputs": [
    {
     "data": {
      "text/plain": [
       "32"
      ]
     },
     "execution_count": 35,
     "metadata": {},
     "output_type": "execute_result"
    }
   ],
   "source": [
    "## 조회\n",
    "srs['손흥민']"
   ]
  },
  {
   "cell_type": "code",
   "execution_count": 36,
   "metadata": {},
   "outputs": [],
   "source": [
    "## 값 변경\n",
    "srs['ㅇㅇㅇ'] = 18"
   ]
  },
  {
   "cell_type": "code",
   "execution_count": 37,
   "metadata": {},
   "outputs": [
    {
     "data": {
      "text/plain": [
       "ㅇㅇㅇ    18\n",
       "ㅂㅂㅂ    30\n",
       "ㅅㅅㅅ    20\n",
       "ㄷㄷㄷ    25\n",
       "손흥민    32\n",
       "dtype: int64"
      ]
     },
     "execution_count": 37,
     "metadata": {},
     "output_type": "execute_result"
    }
   ],
   "source": [
    "srs"
   ]
  },
  {
   "cell_type": "code",
   "execution_count": 38,
   "metadata": {},
   "outputs": [
    {
     "data": {
      "text/plain": [
       "이름               ㅂㅂㅂ\n",
       "나이                30\n",
       "주소                ㅋㅋ\n",
       "이메일    ㅂㅂㅂ@naver.com\n",
       "휴대폰               02\n",
       "Name: 1, dtype: object"
      ]
     },
     "execution_count": 38,
     "metadata": {},
     "output_type": "execute_result"
    }
   ],
   "source": [
    "## 데이터프레임에서 한 행을 가져와도 시리즈\n",
    "df.loc[1]"
   ]
  },
  {
   "cell_type": "markdown",
   "metadata": {},
   "source": [
    "#### 데이터프레임 사용하기\n",
    "\n",
    "- CSV, 엑셀파일 로드\n",
    "- VS Code 플러그인, GrapeCity의 Excel Viewer를 설치"
   ]
  },
  {
   "cell_type": "code",
   "execution_count": 44,
   "metadata": {},
   "outputs": [
    {
     "name": "stderr",
     "output_type": "stream",
     "text": [
      "C:\\Users\\Administrator\\AppData\\Local\\Temp\\ipykernel_12028\\1466640592.py:2: ParserWarning: Falling back to the 'python' engine because the 'c' engine does not support skipfooter; you can avoid this warning by specifying engine='python'.\n",
      "  df_csv = pd.read_csv('./data/sample_1.csv', encoding='utf-8', header=1, skipfooter=2)\n"
     ]
    },
    {
     "data": {
      "text/html": [
       "<div>\n",
       "<style scoped>\n",
       "    .dataframe tbody tr th:only-of-type {\n",
       "        vertical-align: middle;\n",
       "    }\n",
       "\n",
       "    .dataframe tbody tr th {\n",
       "        vertical-align: top;\n",
       "    }\n",
       "\n",
       "    .dataframe thead th {\n",
       "        text-align: right;\n",
       "    }\n",
       "</style>\n",
       "<table border=\"1\" class=\"dataframe\">\n",
       "  <thead>\n",
       "    <tr style=\"text-align: right;\">\n",
       "      <th></th>\n",
       "      <th>국적코드</th>\n",
       "      <th>성별</th>\n",
       "      <th>입국객수</th>\n",
       "      <th>전년동기</th>\n",
       "    </tr>\n",
       "  </thead>\n",
       "  <tbody>\n",
       "    <tr>\n",
       "      <th>0</th>\n",
       "      <td>A01</td>\n",
       "      <td>남성</td>\n",
       "      <td>106320</td>\n",
       "      <td>85815</td>\n",
       "    </tr>\n",
       "    <tr>\n",
       "      <th>1</th>\n",
       "      <td>A01</td>\n",
       "      <td>여성</td>\n",
       "      <td>191436</td>\n",
       "      <td>125241</td>\n",
       "    </tr>\n",
       "    <tr>\n",
       "      <th>2</th>\n",
       "      <td>A31</td>\n",
       "      <td>남성</td>\n",
       "      <td>319</td>\n",
       "      <td>299</td>\n",
       "    </tr>\n",
       "    <tr>\n",
       "      <th>3</th>\n",
       "      <td>A31</td>\n",
       "      <td>여성</td>\n",
       "      <td>42</td>\n",
       "      <td>54</td>\n",
       "    </tr>\n",
       "    <tr>\n",
       "      <th>4</th>\n",
       "      <td>A18</td>\n",
       "      <td>남성</td>\n",
       "      <td>158912</td>\n",
       "      <td>124486</td>\n",
       "    </tr>\n",
       "    <tr>\n",
       "      <th>5</th>\n",
       "      <td>A18</td>\n",
       "      <td>여성</td>\n",
       "      <td>232943</td>\n",
       "      <td>163466</td>\n",
       "    </tr>\n",
       "  </tbody>\n",
       "</table>\n",
       "</div>"
      ],
      "text/plain": [
       "  국적코드  성별    입국객수    전년동기\n",
       "0  A01  남성  106320   85815\n",
       "1  A01  여성  191436  125241\n",
       "2  A31  남성     319     299\n",
       "3  A31  여성      42      54\n",
       "4  A18  남성  158912  124486\n",
       "5  A18  여성  232943  163466"
      ]
     },
     "execution_count": 44,
     "metadata": {},
     "output_type": "execute_result"
    }
   ],
   "source": [
    "## CSV 로드\n",
    "df_csv = pd.read_csv('./data/sample_1.csv', encoding='utf-8', header=1, skipfooter=2, engine='python' ,usecols=[0,1,2])\n",
    "df_csv"
   ]
  },
  {
   "cell_type": "code",
   "execution_count": null,
   "metadata": {},
   "outputs": [],
   "source": [
    "!pip install openpyxl"
   ]
  },
  {
   "cell_type": "code",
   "execution_count": 45,
   "metadata": {},
   "outputs": [
    {
     "data": {
      "text/html": [
       "<div>\n",
       "<style scoped>\n",
       "    .dataframe tbody tr th:only-of-type {\n",
       "        vertical-align: middle;\n",
       "    }\n",
       "\n",
       "    .dataframe tbody tr th {\n",
       "        vertical-align: top;\n",
       "    }\n",
       "\n",
       "    .dataframe thead th {\n",
       "        text-align: right;\n",
       "    }\n",
       "</style>\n",
       "<table border=\"1\" class=\"dataframe\">\n",
       "  <thead>\n",
       "    <tr style=\"text-align: right;\">\n",
       "      <th></th>\n",
       "      <th>국적코드</th>\n",
       "      <th>성별</th>\n",
       "      <th>입국객수</th>\n",
       "    </tr>\n",
       "  </thead>\n",
       "  <tbody>\n",
       "    <tr>\n",
       "      <th>0</th>\n",
       "      <td>A01</td>\n",
       "      <td>남성</td>\n",
       "      <td>106320</td>\n",
       "    </tr>\n",
       "    <tr>\n",
       "      <th>1</th>\n",
       "      <td>A01</td>\n",
       "      <td>여성</td>\n",
       "      <td>191436</td>\n",
       "    </tr>\n",
       "    <tr>\n",
       "      <th>2</th>\n",
       "      <td>A31</td>\n",
       "      <td>남성</td>\n",
       "      <td>319</td>\n",
       "    </tr>\n",
       "    <tr>\n",
       "      <th>3</th>\n",
       "      <td>A31</td>\n",
       "      <td>여성</td>\n",
       "      <td>42</td>\n",
       "    </tr>\n",
       "    <tr>\n",
       "      <th>4</th>\n",
       "      <td>A18</td>\n",
       "      <td>남성</td>\n",
       "      <td>158912</td>\n",
       "    </tr>\n",
       "    <tr>\n",
       "      <th>5</th>\n",
       "      <td>A18</td>\n",
       "      <td>여성</td>\n",
       "      <td>232943</td>\n",
       "    </tr>\n",
       "  </tbody>\n",
       "</table>\n",
       "</div>"
      ],
      "text/plain": [
       "  국적코드  성별    입국객수\n",
       "0  A01  남성  106320\n",
       "1  A01  여성  191436\n",
       "2  A31  남성     319\n",
       "3  A31  여성      42\n",
       "4  A18  남성  158912\n",
       "5  A18  여성  232943"
      ]
     },
     "execution_count": 45,
     "metadata": {},
     "output_type": "execute_result"
    }
   ],
   "source": [
    "# 엑셀 로드\n",
    "df_xls = pd.read_excel('./data/sample_1.xlsx', header=1, skipfooter=2, usecols='A:C', sheet_name='Sheet1')\n",
    "df_xls"
   ]
  }
 ],
 "metadata": {
  "kernelspec": {
   "display_name": "Python 3",
   "language": "python",
   "name": "python3"
  },
  "language_info": {
   "codemirror_mode": {
    "name": "ipython",
    "version": 3
   },
   "file_extension": ".py",
   "mimetype": "text/x-python",
   "name": "python",
   "nbconvert_exporter": "python",
   "pygments_lexer": "ipython3",
   "version": "3.12.2"
  }
 },
 "nbformat": 4,
 "nbformat_minor": 2
}
