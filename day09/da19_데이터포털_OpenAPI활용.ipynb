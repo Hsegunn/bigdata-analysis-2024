{
 "cells": [
  {
   "cell_type": "markdown",
   "metadata": {},
   "source": [
    "## 빅데이터 실습\n",
    "\n",
    "### 데이터포털 OpenAPI 활용\n",
    "\n",
    "#### 데이터 수집\n",
    "\n",
    "##### OpenAPI\n",
    "- 한국관광공사 관광빅데이터 정보서비스 GW\n",
    "    - 기본 URL : https://apis.data.go.kr/B551011/DataLabService/metcoRegnVisitrDDList\n",
    "    - 서비스키 :   Yk%2BO62%2FJrKvUB81J0AtZr5oy9pcPGEO4p9f1xcyTDspNHcCDig5cgJB9U%2FIwUA44gYJxnRHSiRHxQ8pkAipMfw%3D%3D\n",
    "\n",
    "    - 파라미터 (?뒤): \n",
    "        - surviceKey = 본인서비스 키\n",
    "        - numOfRows = 한 페이지에 나타낼 결과 수(10기본 60으로 하면 하루치 전부 다 가져올 수 있음)\n",
    "        - pageNo = 페이지 번호(1)\n",
    "        - MobileOS = IOS , AND, WIN , ETC(기타)\n",
    "        - startYmd = 시작일자\n",
    "        - endYMd = 종료일자 "
   ]
  },
  {
   "cell_type": "code",
   "execution_count": null,
   "metadata": {},
   "outputs": [],
   "source": [
    "# 필요 라이브러리\n",
    "from urllib.request import Request , urlopen\n",
    "from datetime import datetime "
   ]
  },
  {
   "cell_type": "code",
   "execution_count": 1,
   "metadata": {},
   "outputs": [],
   "source": [
    "# 웹으로 OpenAPI를 요청하기 위한 기본함수\n",
    "def getRequestUrl(url):\n",
    "    req = Request(url)\n",
    "    try:\n",
    "        res = urlopen(req)\n",
    "        if res.getcode() == 200: # 웹url 요청결과 OK\n",
    "            print(f'[{datetime.now}] URL 요청 성공')\n",
    "            return res.read().decode('utf-8') # 웹으로 전달될 때는 URL, utf-8로 인코딩, 돌려받을 때는 utf-8 디코딩\n",
    "    except Exception as e:\n",
    "        print(f'[{datetime.now()}] getRequestUrl() 호출 예외 : {e}')\n",
    "        return None"
   ]
  },
  {
   "cell_type": "code",
   "execution_count": 2,
   "metadata": {},
   "outputs": [],
   "source": [
    "# 파라미터를 변경하면서 OpenAPI를 요청하고 결과데이터 리턴함수\n",
    "# 만약 시작일자, 종료일자가 다르면 파라미터 두개 받아야함\n",
    "serviceKey = r'Yk%2BO62%2FJrKvUB81J0AtZr5oy9pcPGEO4p9f1xcyTDspNHcCDig5cgJB9U%2FIwUA44gYJxnRHSiRHxQ8pkAipMfw%3D%3D'\n",
    "\n",
    "def getTouristDataService(yyyymmdd):\n",
    "    serviceURL = 'https://apis.data.go.kr/B551011/DataLabService/metcoRegnVisitrDDList'\n",
    "    parameters = f'?serviceKey={serviceKey}' + \\\n",
    "                 f'&numOfRows=60' + \\\n",
    "                 f'&pageNo=1' + \\\n",
    "                 f'&MobileOS=ETC' + \\\n",
    "                 f'&startYmd={yyyymmdd}' + \\\n",
    "                 f'&endYMd={yyyymmdd}'\n",
    "    url = serviceURL + parameters\n",
    "    print(url)\n",
    "    respenose = getTouristDataService(url)\n",
    "\n",
    "    if respenose == None:\n",
    "        return None\n",
    "    else:\n",
    "        return respenose                 "
   ]
  }
 ],
 "metadata": {
  "kernelspec": {
   "display_name": "Python 3",
   "language": "python",
   "name": "python3"
  },
  "language_info": {
   "codemirror_mode": {
    "name": "ipython",
    "version": 3
   },
   "file_extension": ".py",
   "mimetype": "text/x-python",
   "name": "python",
   "nbconvert_exporter": "python",
   "pygments_lexer": "ipython3",
   "version": "3.12.2"
  }
 },
 "nbformat": 4,
 "nbformat_minor": 2
}
